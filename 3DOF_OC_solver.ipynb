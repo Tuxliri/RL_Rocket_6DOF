{
  "cells": [
    {
      "cell_type": "markdown",
      "metadata": {
        "id": "Pn0CpVNa-fa8",
        "nbpages": {
          "level": 0,
          "link": "[](https://jckantor.github.io/ND-Pyomo-Cookbook/06.04-Soft-Landing-Apollo-11-on-the-Moon.html)",
          "section": ""
        }
      },
      "source": [
        "<!--NOTEBOOK_HEADER-->\n",
        "*This notebook contains material from [ND-Pyomo-Cookbook](https://jckantor.github.io/ND-Pyomo-Cookbook);\n",
        "content is available [on Github](https://github.com/jckantor/ND-Pyomo-Cookbook.git).*\n",
        "*The text is released under the [CC-BY-NC-ND-4.0 license](https://creativecommons.org/licenses/by-nc-nd/4.0/legalcode),\n",
        "and code is released under the [MIT license](https://opensource.org/licenses/MIT).*"
      ]
    },
    {
      "cell_type": "markdown",
      "metadata": {
        "id": "8C_vr6C0Jf8I",
        "nbpages": {
          "level": 1,
          "link": "[6.4 Soft Landing Apollo 11 on the Moon](https://jckantor.github.io/ND-Pyomo-Cookbook/06.04-Soft-Landing-Apollo-11-on-the-Moon.html#6.4-Soft-Landing-Apollo-11-on-the-Moon)",
          "section": "6.4 Soft Landing Apollo 11 on the Moon"
        }
      },
      "source": [
        "# 6.4 Soft Landing Falcon 9\n",
        "\n",
        "Keywords: optimal control, ipopt usage, dae, differential-algebraic equations, rescaling time"
      ]
    },
    {
      "cell_type": "markdown",
      "metadata": {
        "id": "IJIPVYupiSrk",
        "nbpages": {
          "level": 1,
          "link": "[6.4 Soft Landing Apollo 11 on the Moon](https://jckantor.github.io/ND-Pyomo-Cookbook/06.04-Soft-Landing-Apollo-11-on-the-Moon.html#6.4-Soft-Landing-Apollo-11-on-the-Moon)",
          "section": "6.4 Soft Landing Apollo 11 on the Moon"
        }
      },
      "source": [
        "This notebook can be used to generate the batch of optimal trajectories used to train the neural network by imitation learning."
      ]
    },
    {
      "cell_type": "markdown",
      "metadata": {
        "id": "r1DkXPM5wif0",
        "nbpages": {
          "level": 2,
          "link": "[6.4.1 Imports](https://jckantor.github.io/ND-Pyomo-Cookbook/06.04-Soft-Landing-Apollo-11-on-the-Moon.html#6.4.1-Imports)",
          "section": "6.4.1 Imports"
        }
      },
      "source": [
        "## 6.4.1 Imports"
      ]
    },
    {
      "cell_type": "code",
      "execution_count": 5,
      "metadata": {
        "colab": {
          "base_uri": "https://localhost:8080/"
        },
        "id": "bR8Myhw41z4E",
        "nbpages": {
          "level": 2,
          "link": "[6.4.1 Imports](https://jckantor.github.io/ND-Pyomo-Cookbook/06.04-Soft-Landing-Apollo-11-on-the-Moon.html#6.4.1-Imports)",
          "section": "6.4.1 Imports"
        },
        "outputId": "d2dc038b-00c5-488d-e2bb-59814957e427"
      },
      "outputs": [
        {
          "name": "stdout",
          "output_type": "stream",
          "text": [
            "Requirement already satisfied: ipywidgets in /home/diafrate/anaconda3/lib/python3.9/site-packages (7.6.5)\n",
            "Requirement already satisfied: ipython-genutils~=0.2.0 in /home/diafrate/anaconda3/lib/python3.9/site-packages (from ipywidgets) (0.2.0)\n",
            "Requirement already satisfied: nbformat>=4.2.0 in /home/diafrate/anaconda3/lib/python3.9/site-packages (from ipywidgets) (5.3.0)\n",
            "Requirement already satisfied: jupyterlab-widgets>=1.0.0 in /home/diafrate/anaconda3/lib/python3.9/site-packages (from ipywidgets) (1.0.0)\n",
            "Requirement already satisfied: widgetsnbextension~=3.5.0 in /home/diafrate/anaconda3/lib/python3.9/site-packages (from ipywidgets) (3.5.2)\n",
            "Requirement already satisfied: traitlets>=4.3.1 in /home/diafrate/anaconda3/lib/python3.9/site-packages (from ipywidgets) (5.1.1)\n",
            "Requirement already satisfied: ipython>=4.0.0 in /home/diafrate/anaconda3/lib/python3.9/site-packages (from ipywidgets) (8.2.0)\n",
            "Requirement already satisfied: ipykernel>=4.5.1 in /home/diafrate/anaconda3/lib/python3.9/site-packages (from ipywidgets) (6.9.1)\n",
            "Requirement already satisfied: debugpy<2.0,>=1.0.0 in /home/diafrate/anaconda3/lib/python3.9/site-packages (from ipykernel>=4.5.1->ipywidgets) (1.5.1)\n",
            "Requirement already satisfied: tornado<7.0,>=4.2 in /home/diafrate/anaconda3/lib/python3.9/site-packages (from ipykernel>=4.5.1->ipywidgets) (6.1)\n",
            "Requirement already satisfied: nest-asyncio in /home/diafrate/anaconda3/lib/python3.9/site-packages (from ipykernel>=4.5.1->ipywidgets) (1.5.5)\n",
            "Requirement already satisfied: jupyter-client<8.0 in /home/diafrate/anaconda3/lib/python3.9/site-packages (from ipykernel>=4.5.1->ipywidgets) (6.1.12)\n",
            "Requirement already satisfied: matplotlib-inline<0.2.0,>=0.1.0 in /home/diafrate/anaconda3/lib/python3.9/site-packages (from ipykernel>=4.5.1->ipywidgets) (0.1.2)\n",
            "Requirement already satisfied: decorator in /home/diafrate/anaconda3/lib/python3.9/site-packages (from ipython>=4.0.0->ipywidgets) (5.1.1)\n",
            "Requirement already satisfied: pygments>=2.4.0 in /home/diafrate/anaconda3/lib/python3.9/site-packages (from ipython>=4.0.0->ipywidgets) (2.11.2)\n",
            "Requirement already satisfied: prompt-toolkit!=3.0.0,!=3.0.1,<3.1.0,>=2.0.0 in /home/diafrate/anaconda3/lib/python3.9/site-packages (from ipython>=4.0.0->ipywidgets) (3.0.20)\n",
            "Requirement already satisfied: setuptools>=18.5 in /home/diafrate/anaconda3/lib/python3.9/site-packages (from ipython>=4.0.0->ipywidgets) (61.2.0)\n",
            "Requirement already satisfied: stack-data in /home/diafrate/anaconda3/lib/python3.9/site-packages (from ipython>=4.0.0->ipywidgets) (0.2.0)\n",
            "Requirement already satisfied: backcall in /home/diafrate/anaconda3/lib/python3.9/site-packages (from ipython>=4.0.0->ipywidgets) (0.2.0)\n",
            "Requirement already satisfied: jedi>=0.16 in /home/diafrate/anaconda3/lib/python3.9/site-packages (from ipython>=4.0.0->ipywidgets) (0.18.1)\n",
            "Requirement already satisfied: pexpect>4.3 in /home/diafrate/anaconda3/lib/python3.9/site-packages (from ipython>=4.0.0->ipywidgets) (4.8.0)\n",
            "Requirement already satisfied: pickleshare in /home/diafrate/anaconda3/lib/python3.9/site-packages (from ipython>=4.0.0->ipywidgets) (0.7.5)\n",
            "Requirement already satisfied: parso<0.9.0,>=0.8.0 in /home/diafrate/anaconda3/lib/python3.9/site-packages (from jedi>=0.16->ipython>=4.0.0->ipywidgets) (0.8.3)\n",
            "Requirement already satisfied: pyzmq>=13 in /home/diafrate/anaconda3/lib/python3.9/site-packages (from jupyter-client<8.0->ipykernel>=4.5.1->ipywidgets) (22.3.0)\n",
            "Requirement already satisfied: python-dateutil>=2.1 in /home/diafrate/anaconda3/lib/python3.9/site-packages (from jupyter-client<8.0->ipykernel>=4.5.1->ipywidgets) (2.8.2)\n",
            "Requirement already satisfied: jupyter-core>=4.6.0 in /home/diafrate/anaconda3/lib/python3.9/site-packages (from jupyter-client<8.0->ipykernel>=4.5.1->ipywidgets) (4.9.2)\n",
            "Requirement already satisfied: jsonschema>=2.6 in /home/diafrate/anaconda3/lib/python3.9/site-packages (from nbformat>=4.2.0->ipywidgets) (4.4.0)\n",
            "Requirement already satisfied: fastjsonschema in /home/diafrate/anaconda3/lib/python3.9/site-packages (from nbformat>=4.2.0->ipywidgets) (2.15.1)\n",
            "Requirement already satisfied: attrs>=17.4.0 in /home/diafrate/anaconda3/lib/python3.9/site-packages (from jsonschema>=2.6->nbformat>=4.2.0->ipywidgets) (21.4.0)\n",
            "Requirement already satisfied: pyrsistent!=0.17.0,!=0.17.1,!=0.17.2,>=0.14.0 in /home/diafrate/anaconda3/lib/python3.9/site-packages (from jsonschema>=2.6->nbformat>=4.2.0->ipywidgets) (0.18.0)\n",
            "Requirement already satisfied: ptyprocess>=0.5 in /home/diafrate/anaconda3/lib/python3.9/site-packages (from pexpect>4.3->ipython>=4.0.0->ipywidgets) (0.7.0)\n",
            "Requirement already satisfied: wcwidth in /home/diafrate/anaconda3/lib/python3.9/site-packages (from prompt-toolkit!=3.0.0,!=3.0.1,<3.1.0,>=2.0.0->ipython>=4.0.0->ipywidgets) (0.2.5)\n",
            "Requirement already satisfied: six>=1.5 in /home/diafrate/anaconda3/lib/python3.9/site-packages (from python-dateutil>=2.1->jupyter-client<8.0->ipykernel>=4.5.1->ipywidgets) (1.16.0)\n",
            "Requirement already satisfied: notebook>=4.4.1 in /home/diafrate/anaconda3/lib/python3.9/site-packages (from widgetsnbextension~=3.5.0->ipywidgets) (6.4.8)\n",
            "Requirement already satisfied: nbconvert in /home/diafrate/anaconda3/lib/python3.9/site-packages (from notebook>=4.4.1->widgetsnbextension~=3.5.0->ipywidgets) (6.4.4)\n",
            "Requirement already satisfied: prometheus-client in /home/diafrate/anaconda3/lib/python3.9/site-packages (from notebook>=4.4.1->widgetsnbextension~=3.5.0->ipywidgets) (0.13.1)\n",
            "Requirement already satisfied: jinja2 in /home/diafrate/anaconda3/lib/python3.9/site-packages (from notebook>=4.4.1->widgetsnbextension~=3.5.0->ipywidgets) (2.11.3)\n",
            "Requirement already satisfied: argon2-cffi in /home/diafrate/anaconda3/lib/python3.9/site-packages (from notebook>=4.4.1->widgetsnbextension~=3.5.0->ipywidgets) (21.3.0)\n",
            "Requirement already satisfied: terminado>=0.8.3 in /home/diafrate/anaconda3/lib/python3.9/site-packages (from notebook>=4.4.1->widgetsnbextension~=3.5.0->ipywidgets) (0.13.1)\n",
            "Requirement already satisfied: Send2Trash>=1.8.0 in /home/diafrate/anaconda3/lib/python3.9/site-packages (from notebook>=4.4.1->widgetsnbextension~=3.5.0->ipywidgets) (1.8.0)\n",
            "Requirement already satisfied: argon2-cffi-bindings in /home/diafrate/anaconda3/lib/python3.9/site-packages (from argon2-cffi->notebook>=4.4.1->widgetsnbextension~=3.5.0->ipywidgets) (21.2.0)\n",
            "Requirement already satisfied: cffi>=1.0.1 in /home/diafrate/anaconda3/lib/python3.9/site-packages (from argon2-cffi-bindings->argon2-cffi->notebook>=4.4.1->widgetsnbextension~=3.5.0->ipywidgets) (1.15.0)\n",
            "Requirement already satisfied: pycparser in /home/diafrate/anaconda3/lib/python3.9/site-packages (from cffi>=1.0.1->argon2-cffi-bindings->argon2-cffi->notebook>=4.4.1->widgetsnbextension~=3.5.0->ipywidgets) (2.21)\n",
            "Requirement already satisfied: MarkupSafe>=0.23 in /home/diafrate/anaconda3/lib/python3.9/site-packages (from jinja2->notebook>=4.4.1->widgetsnbextension~=3.5.0->ipywidgets) (2.0.1)\n",
            "Requirement already satisfied: bleach in /home/diafrate/anaconda3/lib/python3.9/site-packages (from nbconvert->notebook>=4.4.1->widgetsnbextension~=3.5.0->ipywidgets) (4.1.0)\n",
            "Requirement already satisfied: defusedxml in /home/diafrate/anaconda3/lib/python3.9/site-packages (from nbconvert->notebook>=4.4.1->widgetsnbextension~=3.5.0->ipywidgets) (0.7.1)\n",
            "Requirement already satisfied: pandocfilters>=1.4.1 in /home/diafrate/anaconda3/lib/python3.9/site-packages (from nbconvert->notebook>=4.4.1->widgetsnbextension~=3.5.0->ipywidgets) (1.5.0)\n",
            "Requirement already satisfied: jupyterlab-pygments in /home/diafrate/anaconda3/lib/python3.9/site-packages (from nbconvert->notebook>=4.4.1->widgetsnbextension~=3.5.0->ipywidgets) (0.1.2)\n",
            "Requirement already satisfied: beautifulsoup4 in /home/diafrate/anaconda3/lib/python3.9/site-packages (from nbconvert->notebook>=4.4.1->widgetsnbextension~=3.5.0->ipywidgets) (4.11.1)\n",
            "Requirement already satisfied: mistune<2,>=0.8.1 in /home/diafrate/anaconda3/lib/python3.9/site-packages (from nbconvert->notebook>=4.4.1->widgetsnbextension~=3.5.0->ipywidgets) (0.8.4)\n",
            "Requirement already satisfied: entrypoints>=0.2.2 in /home/diafrate/anaconda3/lib/python3.9/site-packages (from nbconvert->notebook>=4.4.1->widgetsnbextension~=3.5.0->ipywidgets) (0.4)\n",
            "Requirement already satisfied: testpath in /home/diafrate/anaconda3/lib/python3.9/site-packages (from nbconvert->notebook>=4.4.1->widgetsnbextension~=3.5.0->ipywidgets) (0.5.0)\n",
            "Requirement already satisfied: nbclient<0.6.0,>=0.5.0 in /home/diafrate/anaconda3/lib/python3.9/site-packages (from nbconvert->notebook>=4.4.1->widgetsnbextension~=3.5.0->ipywidgets) (0.5.13)\n",
            "Requirement already satisfied: soupsieve>1.2 in /home/diafrate/anaconda3/lib/python3.9/site-packages (from beautifulsoup4->nbconvert->notebook>=4.4.1->widgetsnbextension~=3.5.0->ipywidgets) (2.3.1)\n",
            "Requirement already satisfied: packaging in /home/diafrate/anaconda3/lib/python3.9/site-packages (from bleach->nbconvert->notebook>=4.4.1->widgetsnbextension~=3.5.0->ipywidgets) (21.3)\n",
            "Requirement already satisfied: webencodings in /home/diafrate/anaconda3/lib/python3.9/site-packages (from bleach->nbconvert->notebook>=4.4.1->widgetsnbextension~=3.5.0->ipywidgets) (0.5.1)\n",
            "Requirement already satisfied: pyparsing!=3.0.5,>=2.0.2 in /home/diafrate/anaconda3/lib/python3.9/site-packages (from packaging->bleach->nbconvert->notebook>=4.4.1->widgetsnbextension~=3.5.0->ipywidgets) (3.0.4)\n",
            "Requirement already satisfied: pure-eval in /home/diafrate/anaconda3/lib/python3.9/site-packages (from stack-data->ipython>=4.0.0->ipywidgets) (0.2.2)\n",
            "Requirement already satisfied: asttokens in /home/diafrate/anaconda3/lib/python3.9/site-packages (from stack-data->ipython>=4.0.0->ipywidgets) (2.0.5)\n",
            "Requirement already satisfied: executing in /home/diafrate/anaconda3/lib/python3.9/site-packages (from stack-data->ipython>=4.0.0->ipywidgets) (0.8.3)\n",
            "Note: you may need to restart the kernel to use updated packages.\n"
          ]
        }
      ],
      "source": [
        "%matplotlib inline\n",
        "\n",
        "import matplotlib.pyplot as plt\n",
        "import numpy as np\n",
        "\n",
        "import shutil\n",
        "import sys\n",
        "import os.path\n",
        "\n",
        "if not shutil.which(\"pyomo\"):\n",
        "    !pip install -q pyomo\n",
        "    assert(shutil.which(\"pyomo\"))\n",
        "\n",
        "if not (shutil.which(\"ipopt\") or os.path.isfile(\"ipopt\")):\n",
        "    if \"google.colab\" in sys.modules:\n",
        "        !wget -N -q \"https://ampl.com/dl/open/ipopt/ipopt-linux64.zip\"\n",
        "        !unzip -o -q ipopt-linux64\n",
        "    else:\n",
        "        try:\n",
        "            !conda install -y -c conda-forge ipopt \n",
        "        except:\n",
        "            pass\n",
        "\n",
        "assert(shutil.which(\"ipopt\") or os.path.isfile(\"ipopt\"))\n",
        "from pyomo.environ import *\n",
        "from pyomo.dae import *\n",
        "\n",
        "%pip install ipywidgets\n",
        "from matplotlib.animation import FuncAnimation, PillowWriter, FFMpegWriter\n",
        "from ipywidgets import IntProgress\n",
        "from IPython.display import display"
      ]
    },
    {
      "cell_type": "markdown",
      "metadata": {
        "id": "6VFVBpH9pt0M",
        "nbpages": {
          "level": 2,
          "link": "[6.4.2 Version 1: Vertical dynamics of a rocket with constant mass](https://jckantor.github.io/ND-Pyomo-Cookbook/06.04-Soft-Landing-Apollo-11-on-the-Moon.html#6.4.2-Version-1:-Vertical-dynamics-of-a-rocket-with-constant-mass)",
          "section": "6.4.2 Version 1: Vertical dynamics of a rocket with constant mass"
        }
      },
      "source": [
        "## 6.4.2 Version 1: Vertical dynamics of a rocket with constant mass\n",
        "\n",
        "For a rocket with a mass $m$ in vertical flight at altitude $h$, a momentum balance yields the model\n",
        "\n",
        "\\begin{align*}\n",
        "m\\frac{d^2y}{dt^2} & = - m g + T_{max}u\\sin(\\theta+\\delta) \\\\\n",
        "m\\frac{d^2x}{dt^2} & = T_{max}u\\cos(\\theta+\\delta) \\\\\n",
        "J\\frac{d^2\\theta}{dt^2} & = -T_{max}u\\sin(\\delta)(x_{T}-x_{CG}) \\\\\n",
        "\\end{align*}\n",
        "\n",
        "where $u\\in[0,1]$ is the normalized thrust and $T_{max}$ is the engine maximum thrust. For the rotational balance $J$ is the inertia of the rocket and the quantity $(x_{T}-x_{CG})$ is the distance between the center of mass of the rocket and the engine gimbal attachment (where the thrust is transfered to the body of the launcher), both measured from the tip of the rocket.\n",
        "\n",
        "In this first attempt at modeling and control we will neglect the change in rocket mass due to fuel burn.\n",
        "\n",
        "![](https://upload.wikimedia.org/wikipedia/commons/thumb/6/60/ORBCOMM-2_%2823802549782%29.jpg/400px-ORBCOMM-2_%2823802549782%29.jpg)\n",
        "\n",
        "<a title=\"ORBCOMM-2, via Wikimedia Commons\" href=\"https://commons.wikimedia.org/wiki/File:ORBCOMM-2_(23802549782).jpg\"></a>\n",
        "\n",
        "LM_illustration_02.jpg: NASA Marshall Space Flight Center (NASA-MSFC)derivative work: Adert [Public domain]\n",
        "\n",
        "The following data is for the [Falcon 9 rocket](https://www.spacex.com/media/falcon-users-guide-2021-09.pdf)."
      ]
    },
    {
      "cell_type": "code",
      "execution_count": 6,
      "metadata": {
        "id": "r-GXDIYS4bao",
        "nbpages": {
          "level": 2,
          "link": "[6.4.2 Version 1: Vertical dynamics of a rocket with constant mass](https://jckantor.github.io/ND-Pyomo-Cookbook/06.04-Soft-Landing-Apollo-11-on-the-Moon.html#6.4.2-Version-1:-Vertical-dynamics-of-a-rocket-with-constant-mass)",
          "section": "6.4.2 Version 1: Vertical dynamics of a rocket with constant mass"
        }
      },
      "outputs": [],
      "source": [
        "initial_conditions = {'x' : -1600, 'z' : 2000, 'th' : np.pi*3/4,\n",
        "                    'vx' : 180, 'vz' : -90, 'om' : 0, 'mass' : 50e3}\n",
        "                    \n",
        "# lunar module\n",
        "m_total = initial_conditions[\"mass\"]                 # kg\n",
        "I_total = 6.04e6                # kg*m**2\n",
        "L_thrust = 30                   # Thrust arm [m]\n",
        "\n",
        "# descent engine characteristics\n",
        "u_max = 981600                  # 981.6 kNewtons\n",
        "\n",
        "# landing mission specifications\n",
        "h_initial = initial_conditions['z']           # meters\n",
        "x_initial = initial_conditions['x']\n",
        "theta_initial = initial_conditions['th']        # Initial angle from vertical\n",
        "\n",
        "vy_initial = initial_conditions['vz']              # falling velocity m/s\n",
        "vx_initial = initial_conditions['vx']               # horizontal velocity m/s\n",
        "vtheta_initial = initial_conditions['om']\n",
        "\n",
        "g = 9.81                     # m/s**2\n",
        "\n",
        "deg_to_rad = np.pi/180"
      ]
    },
    {
      "cell_type": "markdown",
      "metadata": {
        "id": "rLx0_brhUzl9",
        "nbpages": {
          "level": 2,
          "link": "[6.4.3 Version 2: Rescaled model](https://jckantor.github.io/ND-Pyomo-Cookbook/06.04-Soft-Landing-Apollo-11-on-the-Moon.html#6.4.3-Version-2:-Rescaled-model)",
          "section": "6.4.3 Version 2: Rescaled model"
        }
      },
      "source": [
        "## 6.4.3 Version 2: Rescaled model\n",
        "\n",
        "At this point, it's now clear the first version of this model has run into some serious problems:\n",
        "\n",
        "* The calculated trajectory takes us through a crash landing and trip through the interior of the moon. \n",
        "* The engine thrust never goes to zero, even when the lander is at zero velocity and on the surface. The reason is that the model doesn't account for the reaction force of the surface on the lander. So the lander is really just hoovering rather than landing.\n",
        "* There is no obvious means of estimating the time required for the mission. \n",
        "\n",
        "Let's begin with the last issue. We will introduce an additional decision variable $T$ denoting the length of the mission. Time is then rescaled as\n",
        "\n",
        "$$\\tau = \\frac{t}{T}\\quad\\implies\\quad t =\\tau T$$\n",
        "\n",
        "The differential equation model then becomes\n",
        "\n",
        "\\begin{align*}\n",
        "\\frac{m}{T^2}\\frac{d^2h}{d\\tau^2} & = - m g + v_eu \\\\\n",
        "\\end{align*}\n",
        "\n",
        "The net result is that an additional variable, $T$, denoting the duration of the descent mission has been introduced into the optimization problem."
      ]
    },
    {
      "cell_type": "code",
      "execution_count": 7,
      "metadata": {
        "colab": {
          "base_uri": "https://localhost:8080/",
          "height": 297
        },
        "id": "6KLIZeb8UzKG",
        "nbpages": {
          "level": 2,
          "link": "[6.4.3 Version 2: Rescaled model](https://jckantor.github.io/ND-Pyomo-Cookbook/06.04-Soft-Landing-Apollo-11-on-the-Moon.html#6.4.3-Version-2:-Rescaled-model)",
          "section": "6.4.3 Version 2: Rescaled model"
        },
        "outputId": "0c5bbab4-e109-43e9-f59c-b5045b676bda"
      },
      "outputs": [],
      "source": [
        "m = ConcreteModel()\n",
        "m.t = ContinuousSet(bounds=(0, 1))\n",
        "m.y = Var(m.t)\n",
        "m.x = Var(m.t)\n",
        "m.theta = Var(m.t)\n",
        "m.u = Var(m.t, bounds=(0, 1))\n",
        "m.gimbal = Var(m.t, bounds=(-20*deg_to_rad, +20*deg_to_rad))\n",
        "m.T = Var(domain=NonNegativeReals)\n",
        "\n",
        "m.vx = DerivativeVar(m.x, wrt=m.t)\n",
        "m.vy = DerivativeVar(m.y, wrt=m.t)\n",
        "m.vtheta = DerivativeVar(m.theta, wrt=m.t)\n",
        "\n",
        "m.ax = DerivativeVar(m.vx, wrt=m.t)\n",
        "m.ay = DerivativeVar(m.vy, wrt=m.t)\n",
        "m.atheta = DerivativeVar(m.vtheta, wrt=m.t)\n",
        "\n",
        "# Dynamics constraints definition (EOM)\n",
        "m.ode1 = Constraint(m.t, rule = lambda m, t: \n",
        "    m_total*m.ax[t]/m.T**2 == u_max*m.u[t]*cos(m.gimbal[t]+m.theta[t]))\n",
        "\n",
        "m.ode2 = Constraint(m.t, rule = lambda m, t: \n",
        "    m_total*m.ay[t]/m.T**2 == u_max*m.u[t]*sin(m.gimbal[t]+m.theta[t]) - m_total*g)\n",
        "\n",
        "m.ode3 = Constraint(m.t, rule = lambda m, t: \n",
        "    I_total*m.atheta[t]/m.T**2 == -L_thrust*u_max*m.u[t]*sin(m.gimbal[t]))\n",
        "\n",
        "m.y[0].fix(h_initial)\n",
        "m.x[0].fix(x_initial)\n",
        "m.theta[0].fix(theta_initial)\n",
        "\n",
        "m.vy[0].fix(vy_initial)\n",
        "m.vx[0].fix(vx_initial)\n",
        "m.vtheta[0].fix(vtheta_initial)\n",
        "\n",
        "m.y[1].fix(0)    # land on surface\n",
        "m.x[1].fix(0)    # land on surface\n",
        "m.theta[1].fix(np.pi/2)    # land on surface\n",
        "\n",
        "m.vx[1].fix(0)    # soft landing\n",
        "m.vy[1].fix(0)    # soft landing\n",
        "m.vtheta[1].fix(0)    # soft landing\n"
      ]
    },
    {
      "cell_type": "markdown",
      "metadata": {
        "id": "S7sI82VUcSii",
        "nbpages": {
          "level": 3,
          "link": "[6.4.3.2 Minimize fuel consumption](https://jckantor.github.io/ND-Pyomo-Cookbook/06.04-Soft-Landing-Apollo-11-on-the-Moon.html#6.4.3.2-Minimize-fuel-consumption)",
          "section": "6.4.3.2 Minimize fuel consumption"
        }
      },
      "source": [
        "### 6.4.3.1 Minimize fuel consumption\n",
        "\n",
        "$$\\min_{u(\\tau), T} T\\int_0^1 u(\\tau)\\, d\\tau$$"
      ]
    },
    {
      "cell_type": "code",
      "execution_count": 8,
      "metadata": {},
      "outputs": [
        {
          "ename": "ValueError",
          "evalue": "Cannot load a SolverResults object with bad status: error",
          "output_type": "error",
          "traceback": [
            "\u001b[0;31m---------------------------------------------------------------------------\u001b[0m",
            "\u001b[0;31mValueError\u001b[0m                                Traceback (most recent call last)",
            "\u001b[1;32m/home/diafrate/RL_rocket/3DOF_OC_solver.ipynb Cell 11\u001b[0m in \u001b[0;36m<cell line: 10>\u001b[0;34m()\u001b[0m\n\u001b[1;32m      <a href='vscode-notebook-cell://wsl%2Bubuntu-20.04/home/diafrate/RL_rocket/3DOF_OC_solver.ipynb#X13sdnNjb2RlLXJlbW90ZQ%3D%3D?line=6'>7</a>\u001b[0m     TransformationFactory(\u001b[39m'\u001b[39m\u001b[39mdae.finite_difference\u001b[39m\u001b[39m'\u001b[39m)\u001b[39m.\u001b[39mapply_to(m, nfe\u001b[39m=\u001b[39m\u001b[39m150\u001b[39m, scheme\u001b[39m=\u001b[39m\u001b[39m'\u001b[39m\u001b[39mFORWARD\u001b[39m\u001b[39m'\u001b[39m)\n\u001b[1;32m      <a href='vscode-notebook-cell://wsl%2Bubuntu-20.04/home/diafrate/RL_rocket/3DOF_OC_solver.ipynb#X13sdnNjb2RlLXJlbW90ZQ%3D%3D?line=7'>8</a>\u001b[0m     SolverFactory(\u001b[39m'\u001b[39m\u001b[39mipopt\u001b[39m\u001b[39m'\u001b[39m)\u001b[39m.\u001b[39msolve(m)\n\u001b[0;32m---> <a href='vscode-notebook-cell://wsl%2Bubuntu-20.04/home/diafrate/RL_rocket/3DOF_OC_solver.ipynb#X13sdnNjb2RlLXJlbW90ZQ%3D%3D?line=9'>10</a>\u001b[0m solve(m)\n",
            "\u001b[1;32m/home/diafrate/RL_rocket/3DOF_OC_solver.ipynb Cell 11\u001b[0m in \u001b[0;36msolve\u001b[0;34m(m)\u001b[0m\n\u001b[1;32m      <a href='vscode-notebook-cell://wsl%2Bubuntu-20.04/home/diafrate/RL_rocket/3DOF_OC_solver.ipynb#X13sdnNjb2RlLXJlbW90ZQ%3D%3D?line=4'>5</a>\u001b[0m \u001b[39mdef\u001b[39;00m \u001b[39msolve\u001b[39m(m):\n\u001b[1;32m      <a href='vscode-notebook-cell://wsl%2Bubuntu-20.04/home/diafrate/RL_rocket/3DOF_OC_solver.ipynb#X13sdnNjb2RlLXJlbW90ZQ%3D%3D?line=6'>7</a>\u001b[0m     TransformationFactory(\u001b[39m'\u001b[39m\u001b[39mdae.finite_difference\u001b[39m\u001b[39m'\u001b[39m)\u001b[39m.\u001b[39mapply_to(m, nfe\u001b[39m=\u001b[39m\u001b[39m150\u001b[39m, scheme\u001b[39m=\u001b[39m\u001b[39m'\u001b[39m\u001b[39mFORWARD\u001b[39m\u001b[39m'\u001b[39m)\n\u001b[0;32m----> <a href='vscode-notebook-cell://wsl%2Bubuntu-20.04/home/diafrate/RL_rocket/3DOF_OC_solver.ipynb#X13sdnNjb2RlLXJlbW90ZQ%3D%3D?line=7'>8</a>\u001b[0m     SolverFactory(\u001b[39m'\u001b[39;49m\u001b[39mipopt\u001b[39;49m\u001b[39m'\u001b[39;49m)\u001b[39m.\u001b[39;49msolve(m)\n",
            "File \u001b[0;32m~/anaconda3/lib/python3.9/site-packages/pyomo/opt/base/solvers.py:627\u001b[0m, in \u001b[0;36mOptSolver.solve\u001b[0;34m(self, *args, **kwds)\u001b[0m\n\u001b[1;32m    625\u001b[0m \u001b[39melse\u001b[39;00m:\n\u001b[1;32m    626\u001b[0m     \u001b[39mif\u001b[39;00m \u001b[39mself\u001b[39m\u001b[39m.\u001b[39m_load_solutions:\n\u001b[0;32m--> 627\u001b[0m         _model\u001b[39m.\u001b[39;49msolutions\u001b[39m.\u001b[39;49mload_from(\n\u001b[1;32m    628\u001b[0m             result,\n\u001b[1;32m    629\u001b[0m             select\u001b[39m=\u001b[39;49m\u001b[39mself\u001b[39;49m\u001b[39m.\u001b[39;49m_select_index,\n\u001b[1;32m    630\u001b[0m             default_variable_value\u001b[39m=\u001b[39;49m\u001b[39mself\u001b[39;49m\u001b[39m.\u001b[39;49m_default_variable_value)\n\u001b[1;32m    631\u001b[0m         result\u001b[39m.\u001b[39m_smap_id \u001b[39m=\u001b[39m \u001b[39mNone\u001b[39;00m\n\u001b[1;32m    632\u001b[0m         result\u001b[39m.\u001b[39msolution\u001b[39m.\u001b[39mclear()\n",
            "File \u001b[0;32m~/anaconda3/lib/python3.9/site-packages/pyomo/core/base/PyomoModel.py:226\u001b[0m, in \u001b[0;36mModelSolutions.load_from\u001b[0;34m(self, results, allow_consistent_values_for_fixed_vars, comparison_tolerance_for_fixed_vars, ignore_invalid_labels, id, delete_symbol_map, clear, default_variable_value, select, ignore_fixed_vars)\u001b[0m\n\u001b[1;32m    222\u001b[0m         logger\u001b[39m.\u001b[39mwarning(\n\u001b[1;32m    223\u001b[0m             \u001b[39m\"\u001b[39m\u001b[39mLoading a SolverResults object with \u001b[39m\u001b[39m\"\u001b[39m\n\u001b[1;32m    224\u001b[0m             \u001b[39m\"\u001b[39m\u001b[39man \u001b[39m\u001b[39m'\u001b[39m\u001b[39maborted\u001b[39m\u001b[39m'\u001b[39m\u001b[39m status, but containing a solution\u001b[39m\u001b[39m\"\u001b[39m)\n\u001b[1;32m    225\u001b[0m     \u001b[39melse\u001b[39;00m:\n\u001b[0;32m--> 226\u001b[0m         \u001b[39mraise\u001b[39;00m \u001b[39mValueError\u001b[39;00m(\u001b[39m\"\u001b[39m\u001b[39mCannot load a SolverResults object \u001b[39m\u001b[39m\"\u001b[39m\n\u001b[1;32m    227\u001b[0m                          \u001b[39m\"\u001b[39m\u001b[39mwith bad status: \u001b[39m\u001b[39m%s\u001b[39;00m\u001b[39m\"\u001b[39m\n\u001b[1;32m    228\u001b[0m                          \u001b[39m%\u001b[39m \u001b[39mstr\u001b[39m(results\u001b[39m.\u001b[39msolver\u001b[39m.\u001b[39mstatus))\n\u001b[1;32m    229\u001b[0m \u001b[39mif\u001b[39;00m clear:\n\u001b[1;32m    230\u001b[0m     \u001b[39m#\u001b[39;00m\n\u001b[1;32m    231\u001b[0m     \u001b[39m# Clear the solutions, but not the symbol map\u001b[39;00m\n\u001b[1;32m    232\u001b[0m     \u001b[39m#\u001b[39;00m\n\u001b[1;32m    233\u001b[0m     \u001b[39mself\u001b[39m\u001b[39m.\u001b[39mclear(clear_symbol_maps\u001b[39m=\u001b[39m\u001b[39mFalse\u001b[39;00m)\n",
            "\u001b[0;31mValueError\u001b[0m: Cannot load a SolverResults object with bad status: error"
          ]
        }
      ],
      "source": [
        "\n",
        "# Minimum fuel constraint\n",
        "m.fuel = Integral(m.t, wrt=m.t, rule = lambda m, t: m.u[t]*m.T)\n",
        "m.obj = Objective(expr=m.fuel, sense=minimize)\n",
        "\n",
        "def solve(m):\n",
        "  \n",
        "    TransformationFactory('dae.finite_difference').apply_to(m, nfe=150, scheme='FORWARD')\n",
        "    SolverFactory('ipopt').solve(m)\n",
        "    \n",
        "solve(m)"
      ]
    },
    {
      "cell_type": "code",
      "execution_count": null,
      "metadata": {},
      "outputs": [],
      "source": [
        "def plot(m):\n",
        "    tsim = [t*m.T() for t in m.t]\n",
        "    hsim = [m.y[t]() for t in m.t]\n",
        "    thetasim = [m.theta[t]() for t in m.t]\n",
        "    usim = [m.u[t]() for t in m.t]\n",
        "    gimbalsim = [m.gimbal[t]() for t in m.t]\n",
        "\n",
        "    plt.subplot(2,2,1)\n",
        "    plt.plot(tsim, hsim)\n",
        "    plt.title('altitude')\n",
        "    plt.xlabel('time / seconds')\n",
        "    plt.ylabel('meters')\n",
        "    plt.legend(['mission length =' + str(round(m.T(),1)) + ' seconds'])\n",
        "    plt.grid(True)\n",
        "    \n",
        "    plt.subplot(2,2,2)\n",
        "    plt.plot(tsim, usim)\n",
        "    plt.title('engine mass flow')\n",
        "    plt.xlabel('time / seconds')\n",
        "    plt.ylabel('sec')\n",
        "    plt.grid(True)\n",
        "    \n",
        "    plt.subplot(2,2,3)\n",
        "    plt.plot(tsim, gimbalsim)\n",
        "    plt.title('engine gimbal')\n",
        "    plt.xlabel('time / seconds')\n",
        "    plt.ylabel('sec')\n",
        "    plt.grid(True)\n",
        "\n",
        "    plt.subplot(2,2,4)\n",
        "    plt.plot(tsim, thetasim)\n",
        "    plt.title('theta')\n",
        "    plt.xlabel('deg')\n",
        "    plt.ylabel('sec')\n",
        "    plt.grid(True)\n",
        "    \n",
        "    plt.tight_layout()\n",
        "\n",
        "def plot_trajectory(m):\n",
        "    tsim = [t*m.T() for t in m.t]\n",
        "    ysim = [m.y[t]() for t in m.t]\n",
        "    xsim = [m.x[t]() for t in m.t]\n",
        "\n",
        "    __,ax, = plt.subplots()\n",
        "    plt.plot(xsim,ysim)\n",
        "    ax.set_aspect('equal')\n",
        "    plt.show()\n",
        "\n",
        "plot(m)\n",
        "plot_trajectory(m)"
      ]
    },
    {
      "cell_type": "markdown",
      "metadata": {},
      "source": [
        "Generate an animation of the landing\n",
        "\n",
        "Code from: [https://medium.com/analytics-vidhya/dynamic-optimization-in-python-rocket-soft-landing-a5a68eaf3b94]"
      ]
    },
    {
      "cell_type": "code",
      "execution_count": null,
      "metadata": {},
      "outputs": [],
      "source": [
        "print(\"Generating Animation\")\n",
        "steps = len([t for t in m.t]) + 1\n",
        "final_time_step = round(1/steps,2)\n",
        "f = IntProgress(min = 0, max = steps)\n",
        "display(f)\n",
        "\n",
        "xsim = np.array([m.x[t]() for t in m.t]).reshape(-1,1)\n",
        "vxsim = np.array([m.vx[t]() for t in m.t]).reshape(-1,1)\n",
        "ysim = np.array([m.y[t]() for t in m.t]).reshape(-1,1)\n",
        "vysim = np.array([m.vy[t]() for t in m.t]).reshape(-1,1)\n",
        "theta_sim = np.array([m.theta[t]() for t in m.t]).reshape(-1,1)\n",
        "vtheta_sim = np.array([m.vtheta[t]() for t in m.t]).reshape(-1,1)\n",
        "\n",
        "thrust_sim = np.array([m.u[t]() for t in m.t]).reshape(-1,1)\n",
        "thrust_angle_sim = np.array([m.gimbal[t]() for t in m.t]).reshape(-1,1)\n",
        "\n",
        "x_t = np.hstack([xsim,vxsim,ysim,vysim,theta_sim,vtheta_sim])\n",
        "u_t = np.hstack([thrust_sim,thrust_angle_sim])\n",
        "\n",
        "fig = plt.figure(figsize = (5,8), constrained_layout=False)\n",
        "ax1 = fig.add_subplot(111)\n",
        "plt.axhline(y=0., color='b', linestyle='--', lw=0.8)\n",
        "\n",
        "ln6, = ax1.plot([], [], '--', linewidth = 2, color = 'orange') # trajectory line\n",
        "ln2, = ax1.plot([], [], linewidth = 2, color = 'tomato') # thrust line\n",
        "ln1, = ax1.plot([], [], linewidth = 7, color = 'lightblue') # rocket body\n",
        "\n",
        "plt.tight_layout()\n",
        "\n",
        "ax1.set_xlim(-500, 500)\n",
        "ax1.set_ylim(-200, 800)\n",
        "ax1.set_aspect(1)  # aspect of the axis scaling, i.e. the ratio of y-unit to x-unit\n",
        "\n",
        "# Size\n",
        "length = 50                       # m\n",
        "width = 3.66                         # m\n",
        "\n",
        "def update(i):\n",
        "    rocket_theta = x_t[i, 4] +np.pi/2\n",
        "\n",
        "    rocket_x = x_t[i, 0]\n",
        "    # length/1 is just to make rocket bigger in animation\n",
        "    rocket_x_points = [rocket_x + length/1 * np.sin(rocket_theta), rocket_x - length/1 * np.sin(rocket_theta)]\n",
        "\n",
        "    rocket_y = x_t[i, 2]\n",
        "    rocket_y_points = [rocket_y + length/1 * np.cos(rocket_theta), rocket_y - length/1 * np.cos(rocket_theta)]\n",
        "\n",
        "    ln1.set_data(rocket_x_points, rocket_y_points)\n",
        "\n",
        "    thrust_mag = u_t[i, 0]*u_max\n",
        "    thrust_angle = -u_t[i, 1]\n",
        "    v_exhaust=3000\n",
        "    flame_length = (thrust_mag) * (0.4/v_exhaust)\n",
        "    flame_x_points = [rocket_x_points[1], rocket_x_points[1] + flame_length * np.sin(thrust_angle + rocket_theta)]\n",
        "    flame_y_points = [rocket_y_points[1], rocket_y_points[1] + flame_length * np.cos(thrust_angle + rocket_theta)]\n",
        "\n",
        "    ln2.set_data(flame_x_points, flame_y_points)\n",
        "    ln6.set_data(x_t[:i, 0], x_t[:i, 2])\n",
        "\n",
        "    f.value += 1\n",
        "\n",
        "playback_speed = 6500 # the higher the slower \n",
        "anim = FuncAnimation(fig, update, np.arange(0, steps-1, 1), interval= final_time_step * playback_speed)\n",
        "\n",
        "anim\n",
        "writergif = PillowWriter(fps=30) \n",
        "\n",
        "anim.save(os.getcwd()+'/optimal_lander.gif', writer=writergif)"
      ]
    },
    {
      "cell_type": "markdown",
      "metadata": {
        "id": "GsfF_3Do-oHb",
        "nbpages": {
          "level": 2,
          "link": "[6.4.4 Version 3: Rocket model](https://jckantor.github.io/ND-Pyomo-Cookbook/06.04-Soft-Landing-Apollo-11-on-the-Moon.html#6.4.4-Version-3:-Rocket-model)",
          "section": "6.4.4 Version 3: Rocket model"
        }
      },
      "source": [
        "## 6.4.4 Version 3: Rocket model\n",
        "\n",
        "The first version of the rocket model has run into a serious problem because it appears not to provide enough mass flow to the engine to prevent a crash landing. But that may be an artifact of the assumption of constant mass. For Apollo 11 Lunar Module, for example, the fuel in the descent engine comprises more than 50% of the total mass of the lander.\n",
        "\n",
        "For the second version of the rocket model, we augment the model with a mass balance for fuel. This yields \n",
        "\n",
        "\\begin{align*}\n",
        "\\frac{m(t)}{T^2}\\frac{d^2h}{d\\tau^2} & = - m(t)g + v_eu \\\\\n",
        "\\\\\n",
        "\\frac{1}{T}\\frac{dm}{d\\tau} & = -u\n",
        "\\end{align*}"
      ]
    },
    {
      "cell_type": "markdown",
      "metadata": {
        "id": "U-3yVHHsJJO4",
        "nbpages": {
          "level": 2,
          "link": "[6.4.4 Version 3: Rocket model](https://jckantor.github.io/ND-Pyomo-Cookbook/06.04-Soft-Landing-Apollo-11-on-the-Moon.html#6.4.4-Version-3:-Rocket-model)",
          "section": "6.4.4 Version 3: Rocket model"
        }
      },
      "source": [
        "At this point we need to worry about nonsensical answers to the optimization for minimum fuel. For this purpose we add upper and lower bounds on $T$ that should restrict the solver to meaningful solutions."
      ]
    },
    {
      "cell_type": "code",
      "execution_count": null,
      "metadata": {
        "colab": {
          "base_uri": "https://localhost:8080/",
          "height": 441
        },
        "id": "rE5Az9d-DWn9",
        "nbpages": {
          "level": 2,
          "link": "[6.4.4 Version 3: Rocket model](https://jckantor.github.io/ND-Pyomo-Cookbook/06.04-Soft-Landing-Apollo-11-on-the-Moon.html#6.4.4-Version-3:-Rocket-model)",
          "section": "6.4.4 Version 3: Rocket model"
        },
        "outputId": "9d9822fb-b349-471d-c47a-000c612c93fd"
      },
      "outputs": [],
      "source": [
        "m = ConcreteModel()\n",
        "m.t = ContinuousSet(bounds=(0, 1))\n",
        "m.h = Var(m.t, domain=NonNegativeReals)\n",
        "m.m = Var(m.t)\n",
        "m.u = Var(m.t, bounds=(0, u_max))\n",
        "m.T = Var(bounds=(50,3000))\n",
        "\n",
        "m.v = DerivativeVar(m.h, wrt=m.t)\n",
        "m.a = DerivativeVar(m.v, wrt=m.t)\n",
        "m.mdot = DerivativeVar(m.m, wrt=m.t)\n",
        "\n",
        "m.fuel = Integral(m.t, wrt=m.t, rule = lambda m, t: m.u[t]*m.T)\n",
        "m.obj = Objective(expr=m.fuel, sense=minimize)\n",
        "\n",
        "m.ode1 = Constraint(m.t, rule = lambda m, t: m.m[t]*m.a[t]/m.T**2 == -m.m[t]*g + v_exhaust*m.u[t])\n",
        "m.ode2 = Constraint(m.t, rule = lambda m, t: m.mdot[t]/m.T == -m.u[t])\n",
        "\n",
        "m.h[0].fix(h_initial)\n",
        "m.v[0].fix(-v_initial)\n",
        "m.m[0].fix(m_total)\n",
        "\n",
        "m.h[1].fix(0)    # land on surface\n",
        "m.v[1].fix(0)    # soft landing\n",
        "\n",
        "def solve(m):\n",
        "    TransformationFactory('dae.finite_difference').apply_to(m, nfe=50, scheme='FORWARD')\n",
        "    SolverFactory('ipopt').solve(m)\n",
        "\n",
        "    m_nonfuel = m_ascent_dry + m_ascent_fuel + m_descent_dry\n",
        "    \n",
        "    tsim = [t*m.T() for t in m.t]\n",
        "    hsim = [m.h[t]() for t in m.t]\n",
        "    usim = [m.u[t]() for t in m.t]\n",
        "    fsim = [m.m[t]() - m_nonfuel for t in m.t]\n",
        "\n",
        "    plt.figure(figsize=(8,6))\n",
        "    plt.subplot(3,1,1)\n",
        "    plt.plot(tsim, hsim)\n",
        "    plt.title('altitude')\n",
        "    plt.ylabel('meters')\n",
        "    plt.legend(['mission length = ' + str(round(m.T(),1)) + ' seconds'])\n",
        "    plt.grid(True)\n",
        "\n",
        "    plt.subplot(3,1,2)\n",
        "    plt.plot(tsim, usim)\n",
        "    plt.title('engine mass flow')\n",
        "    plt.ylabel('kg/sec')\n",
        "    plt.legend(['fuel burned = ' + str(round(m.fuel(),1)) + ' kg'])\n",
        "    plt.grid(True)\n",
        "\n",
        "    plt.subplot(3,1,3)\n",
        "    plt.plot(tsim, fsim)\n",
        "    plt.title('fuel remaining')\n",
        "    plt.xlabel('time / seconds')\n",
        "    plt.ylabel('kg')\n",
        "    plt.legend(['fuel remaining = ' + str(round(fsim[-1],2)) + ' kg'])\n",
        "    plt.grid(True)\n",
        "\n",
        "    plt.tight_layout()\n",
        "\n",
        "solve(m)"
      ]
    }
  ],
  "metadata": {
    "colab": {
      "collapsed_sections": [],
      "name": "06.04-Soft-Landing-Apollo-11-on-the-Moon.ipynb",
      "provenance": [],
      "toc_visible": true
    },
    "kernelspec": {
      "display_name": "Python 3.9.12 ('base')",
      "language": "python",
      "name": "python3"
    },
    "language_info": {
      "codemirror_mode": {
        "name": "ipython",
        "version": 3
      },
      "file_extension": ".py",
      "mimetype": "text/x-python",
      "name": "python",
      "nbconvert_exporter": "python",
      "pygments_lexer": "ipython3",
      "version": "3.9.12"
    },
    "vscode": {
      "interpreter": {
        "hash": "caa58b6bcf9532de5c39cd677268b407bfd245cb3d021036355eb35faf364ea2"
      }
    }
  },
  "nbformat": 4,
  "nbformat_minor": 0
}
