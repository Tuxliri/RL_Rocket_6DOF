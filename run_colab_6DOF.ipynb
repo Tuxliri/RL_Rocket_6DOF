{
  "cells": [
    {
      "cell_type": "markdown",
      "metadata": {
        "colab_type": "text",
        "id": "view-in-github"
      },
      "source": [
        "<a href=\"https://colab.research.google.com/github/Tuxliri/RL_Rocket_6DOF/blob/test-realistic-initial-conditions/run_colab_6DOF.ipynb\" target=\"_parent\"><img src=\"https://colab.research.google.com/assets/colab-badge.svg\" alt=\"Open In Colab\"/></a>"
      ]
    },
    {
      "cell_type": "code",
      "execution_count": null,
      "metadata": {
        "colab": {
          "base_uri": "https://localhost:8080/"
        },
        "id": "sWzlYmiY141N",
        "outputId": "ccc4b427-4fba-44b0-80a6-3b37771392ed"
      },
      "outputs": [],
      "source": [
        "!pip install git+https://github.com/Tuxliri/RL_rocket_6DOF.git@test-realistic-initial-conditions"
      ]
    },
    {
      "cell_type": "code",
      "execution_count": null,
      "metadata": {
        "colab": {
          "base_uri": "https://localhost:8080/"
        },
        "id": "XxKeaYYuGWGs",
        "outputId": "48fddf2f-d2b3-49ee-d63a-8adc037f063f"
      },
      "outputs": [],
      "source": [
        "!git clone --branch test-realistic-initial-conditions https://github.com/Tuxliri/RL_rocket_6DOF.git"
      ]
    },
    {
      "cell_type": "markdown",
      "metadata": {
        "id": "HiCJgT535o_N"
      },
      "source": [
        "**IMPORT ALL THE NEEDED PACKAGES**"
      ]
    },
    {
      "cell_type": "code",
      "execution_count": null,
      "metadata": {
        "colab": {
          "base_uri": "https://localhost:8080/"
        },
        "id": "Sb-HCUk1v2KO",
        "outputId": "dfbef7b6-1ab6-4ac9-fc83-14920f361fd4"
      },
      "outputs": [],
      "source": [
        "import gym\n",
        "%cd RL_rocket_6DOF/\n",
        "import my_environment\n",
        "\n",
        "!apt-get install -y xvfb python-opengl ffmpeg > /dev/null 2>&1"
      ]
    },
    {
      "cell_type": "code",
      "execution_count": null,
      "metadata": {
        "colab": {
          "base_uri": "https://localhost:8080/",
          "height": 1000
        },
        "id": "W0fcASt0y4a0",
        "outputId": "c5fd1d0e-0b9a-420f-b009-3587e11482be"
      },
      "outputs": [],
      "source": [
        "from main_6DOF import start_training\n",
        "start_training()"
      ]
    }
  ],
  "metadata": {
    "colab": {
      "collapsed_sections": [],
      "include_colab_link": true,
      "name": "run_my_environment.ipynb",
      "provenance": []
    },
    "kernelspec": {
      "display_name": "Python 3.7.13 ('thesis_env')",
      "language": "python",
      "name": "python3"
    },
    "language_info": {
      "codemirror_mode": {
        "name": "ipython",
        "version": 3
      },
      "file_extension": ".py",
      "mimetype": "text/x-python",
      "name": "python",
      "nbconvert_exporter": "python",
      "pygments_lexer": "ipython3",
      "version": "3.7.13"
    },
    "vscode": {
      "interpreter": {
        "hash": "cb2bed79003d04db150c2bac0cc69c4a81f9badb372e6d411ccf76fa514c45a4"
      }
    }
  },
  "nbformat": 4,
  "nbformat_minor": 0
}
