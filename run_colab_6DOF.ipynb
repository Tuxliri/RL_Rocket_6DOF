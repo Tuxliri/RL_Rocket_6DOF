{
  "cells": [
    {
      "cell_type": "markdown",
      "metadata": {
        "colab_type": "text",
        "id": "view-in-github"
      },
      "source": [
        "<a href=\"https://colab.research.google.com/github/Tuxliri/RL_rocket/blob/ppo-6DOF/run_colab_6DOF.ipynb\" target=\"_parent\"><img src=\"https://colab.research.google.com/assets/colab-badge.svg\" alt=\"Open In Colab\"/></a>"
      ]
    },
    {
      "cell_type": "code",
      "execution_count": null,
      "metadata": {
        "colab": {
          "base_uri": "https://localhost:8080/"
        },
        "id": "I4Uab7q5v8nS",
        "outputId": "3e2dafdb-2fd0-493c-c162-21e1850ef174"
      },
      "outputs": [],
      "source": [
        "!git clone --branch ppo-6DOF https://github.com/Tuxliri/RL_rocket.git"
      ]
    },
    {
      "cell_type": "code",
      "execution_count": null,
      "metadata": {
        "colab": {
          "base_uri": "https://localhost:8080/"
        },
        "id": "sWzlYmiY141N",
        "outputId": "4efe0aa7-6286-4796-abb7-449d2c23b96c"
      },
      "outputs": [],
      "source": [
        "!pip install stable-baselines3==1.5.0\n",
        "\n",
        "!pip install -e RL_rocket/."
      ]
    },
    {
      "cell_type": "markdown",
      "metadata": {
        "id": "HiCJgT535o_N"
      },
      "source": [
        "**IMPORT ALL THE NEEDED PACKAGES**"
      ]
    },
    {
      "cell_type": "code",
      "execution_count": 6,
      "metadata": {
        "colab": {
          "base_uri": "https://localhost:8080/"
        },
        "id": "Sb-HCUk1v2KO",
        "outputId": "26f84d45-a0c9-4ac3-a473-da22a1ba5a4e"
      },
      "outputs": [
        {
          "name": "stdout",
          "output_type": "stream",
          "text": [
            "[Errno 2] No such file or directory: 'RL_rocket/'\n",
            "/content/RL_rocket\n"
          ]
        }
      ],
      "source": [
        "import gym\n",
        "%cd RL_rocket/\n",
        "import my_environment\n",
        "\n",
        "!apt-get install -y xvfb python-opengl ffmpeg > /dev/null 2>&1\n",
        "\n",
        "import pyvista as pv\n",
        "pv.start_xvfb()"
      ]
    },
    {
      "cell_type": "code",
      "execution_count": null,
      "metadata": {
        "colab": {
          "base_uri": "https://localhost:8080/"
        },
        "id": "W0fcASt0y4a0",
        "outputId": "6f133df1-dd4d-4299-9382-352a302dec53"
      },
      "outputs": [],
      "source": [
        "from main_6DOF import start_training\n",
        "start_training()"
      ]
    }
  ],
  "metadata": {
    "colab": {
      "collapsed_sections": [],
      "include_colab_link": true,
      "name": "run_my_environment.ipynb",
      "provenance": []
    },
    "kernelspec": {
      "display_name": "Python 3.7.13 ('thesis_env')",
      "language": "python",
      "name": "python3"
    },
    "language_info": {
      "codemirror_mode": {
        "name": "ipython",
        "version": 3
      },
      "file_extension": ".py",
      "mimetype": "text/x-python",
      "name": "python",
      "nbconvert_exporter": "python",
      "pygments_lexer": "ipython3",
      "version": "3.7.13"
    },
    "vscode": {
      "interpreter": {
        "hash": "cb2bed79003d04db150c2bac0cc69c4a81f9badb372e6d411ccf76fa514c45a4"
      }
    }
  },
  "nbformat": 4,
  "nbformat_minor": 0
}
