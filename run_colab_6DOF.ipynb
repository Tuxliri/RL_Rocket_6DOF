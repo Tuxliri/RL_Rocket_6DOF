{
  "cells": [
    {
      "cell_type": "markdown",
      "metadata": {
        "colab_type": "text",
        "id": "view-in-github"
      },
      "source": [
        "<a href=\"https://colab.research.google.com/github/Tuxliri/RL_Rocket_6DOF/blob/test-realistic-initial-conditions/run_colab_6DOF.ipynb\" target=\"_parent\"><img src=\"https://colab.research.google.com/assets/colab-badge.svg\" alt=\"Open In Colab\"/></a>"
      ]
    },
    {
      "cell_type": "code",
      "execution_count": null,
      "metadata": {
        "colab": {
          "base_uri": "https://localhost:8080/"
        },
        "id": "I4Uab7q5v8nS",
        "outputId": "78ce0ece-7846-4350-ed2a-2855ef1728be"
      },
      "outputs": [],
      "source": [
        "!git clone --branch test-realistic-initial-conditions https://github.com/Tuxliri/RL_rocket_6DOF.git"
      ]
    },
    {
      "cell_type": "code",
      "execution_count": null,
      "metadata": {
        "colab": {
          "base_uri": "https://localhost:8080/"
        },
        "id": "sWzlYmiY141N",
        "outputId": "92d59786-a6ce-4de9-f3a4-21566c3406a6"
      },
      "outputs": [],
      "source": [
        "!pip install stable-baselines3==1.5.0\n",
        "\n",
        "!pip install -e ."
      ]
    },
    {
      "cell_type": "markdown",
      "metadata": {
        "id": "HiCJgT535o_N"
      },
      "source": [
        "**IMPORT ALL THE NEEDED PACKAGES**"
      ]
    },
    {
      "cell_type": "code",
      "execution_count": null,
      "metadata": {
        "colab": {
          "base_uri": "https://localhost:8080/",
          "height": 374
        },
        "id": "Sb-HCUk1v2KO",
        "outputId": "3cf2d57a-600b-41f0-8003-695ea83dae2c"
      },
      "outputs": [],
      "source": [
        "import gym\n",
        "%cd RL_rocket_6DOF/\n",
        "import my_environment\n",
        "\n",
        "!apt-get install -y xvfb python-opengl ffmpeg > /dev/null 2>&1"
      ]
    },
    {
      "cell_type": "code",
      "execution_count": null,
      "metadata": {
        "id": "W0fcASt0y4a0"
      },
      "outputs": [],
      "source": [
        "from main_6DOF import start_training\n",
        "start_training()"
      ]
    }
  ],
  "metadata": {
    "colab": {
      "collapsed_sections": [],
      "include_colab_link": true,
      "name": "run_my_environment.ipynb",
      "provenance": []
    },
    "kernelspec": {
      "display_name": "Python 3.7.13 ('thesis_env')",
      "language": "python",
      "name": "python3"
    },
    "language_info": {
      "codemirror_mode": {
        "name": "ipython",
        "version": 3
      },
      "file_extension": ".py",
      "mimetype": "text/x-python",
      "name": "python",
      "nbconvert_exporter": "python",
      "pygments_lexer": "ipython3",
      "version": "3.7.13"
    },
    "vscode": {
      "interpreter": {
        "hash": "cb2bed79003d04db150c2bac0cc69c4a81f9badb372e6d411ccf76fa514c45a4"
      }
    }
  },
  "nbformat": 4,
  "nbformat_minor": 0
}
